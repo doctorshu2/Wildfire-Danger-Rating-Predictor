{
 "cells": [
  {
   "cell_type": "code",
   "execution_count": 2,
   "metadata": {},
   "outputs": [],
   "source": [
    "#Imports\n",
    "import numpy as np\n",
    "import pandas as pd\n",
    "import sklearn as scikit\n",
    "import seaborn as sns\n",
    "from matplotlib import pyplot as plt\n",
    "import re\n",
    "from math import isnan\n",
    "from datetime import datetime\n",
    "from math import isnan\n",
    "import sklearn.model_selection as ms\n",
    "from sklearn.linear_model import LogisticRegression\n",
    "from sklearn.preprocessing import MinMaxScaler\n",
    "from sklearn import metrics\n",
    "from sklearn.metrics import confusion_matrix\n",
    "from sklearn import preprocessing"
   ]
  },
  {
   "cell_type": "markdown",
   "metadata": {},
   "source": [
    "# Part 1: Reading in data and selecting features"
   ]
  },
  {
   "cell_type": "code",
   "execution_count": 3,
   "metadata": {},
   "outputs": [
    {
     "name": "stderr",
     "output_type": "stream",
     "text": [
      "C:\\Users\\docto\\miniconda3\\lib\\site-packages\\pandas\\core\\frame.py:4133: SettingWithCopyWarning: \n",
      "A value is trying to be set on a copy of a slice from a DataFrame\n",
      "\n",
      "See the caveats in the documentation: https://pandas.pydata.org/pandas-docs/stable/user_guide/indexing.html#returning-a-view-versus-a-copy\n",
      "  errors=errors,\n",
      "C:\\Users\\docto\\miniconda3\\lib\\site-packages\\ipykernel_launcher.py:11: SettingWithCopyWarning: \n",
      "A value is trying to be set on a copy of a slice from a DataFrame.\n",
      "Try using .loc[row_indexer,col_indexer] = value instead\n",
      "\n",
      "See the caveats in the documentation: https://pandas.pydata.org/pandas-docs/stable/user_guide/indexing.html#returning-a-view-versus-a-copy\n",
      "  # This is added back by InteractiveShellApp.init_path()\n",
      "C:\\Users\\docto\\miniconda3\\lib\\site-packages\\ipykernel_launcher.py:48: SettingWithCopyWarning: \n",
      "A value is trying to be set on a copy of a slice from a DataFrame.\n",
      "Try using .loc[row_indexer,col_indexer] = value instead\n",
      "\n",
      "See the caveats in the documentation: https://pandas.pydata.org/pandas-docs/stable/user_guide/indexing.html#returning-a-view-versus-a-copy\n",
      "C:\\Users\\docto\\miniconda3\\lib\\site-packages\\ipykernel_launcher.py:53: SettingWithCopyWarning: \n",
      "A value is trying to be set on a copy of a slice from a DataFrame.\n",
      "Try using .loc[row_indexer,col_indexer] = value instead\n",
      "\n",
      "See the caveats in the documentation: https://pandas.pydata.org/pandas-docs/stable/user_guide/indexing.html#returning-a-view-versus-a-copy\n",
      "C:\\Users\\docto\\miniconda3\\lib\\site-packages\\pandas\\core\\generic.py:6245: SettingWithCopyWarning: \n",
      "A value is trying to be set on a copy of a slice from a DataFrame\n",
      "\n",
      "See the caveats in the documentation: https://pandas.pydata.org/pandas-docs/stable/user_guide/indexing.html#returning-a-view-versus-a-copy\n",
      "  self._update_inplace(new_data)\n"
     ]
    },
    {
     "name": "stdout",
     "output_type": "stream",
     "text": [
      "Index(['city', 'temp', 'humidity', 'windspeed', 'rain3h', 'cloudiness', 'date',\n",
      "       'time'],\n",
      "      dtype='object')\n"
     ]
    },
    {
     "name": "stderr",
     "output_type": "stream",
     "text": [
      "C:\\Users\\docto\\miniconda3\\lib\\site-packages\\pandas\\core\\frame.py:3997: SettingWithCopyWarning: \n",
      "A value is trying to be set on a copy of a slice from a DataFrame\n",
      "\n",
      "See the caveats in the documentation: https://pandas.pydata.org/pandas-docs/stable/user_guide/indexing.html#returning-a-view-versus-a-copy\n",
      "  errors=errors,\n"
     ]
    }
   ],
   "source": [
    "#Read in master csv\n",
    "master = pd.read_csv(\"new_weather_master.csv\")\n",
    "\n",
    "#Converting features to separate dataframe\n",
    "main_features = master[['dt_iso','city_name', 'temp', 'humidity', 'wind_speed', 'rain_3h', 'clouds_all']]\n",
    "main_features.rename(columns={'dt_iso': 'datetime', 'city_name': 'city', 'wind_speed': 'windspeed', 'clouds_all': 'cloudiness', 'rain_3h': 'rain3h'}, inplace=True)\n",
    "\n",
    "\n",
    "#Cleaning up columns\n",
    "dateSplit = lambda entry: entry.split(\" \")[0]\n",
    "main_features['date'] = main_features.datetime.apply(dateSplit)\n",
    "\n",
    "def timeSplit(entry):\n",
    "    s1 = entry.split(\" \")[0]\n",
    "    s1 = s1.split(\"-\")\n",
    "    s1 = reversed(s1)\n",
    "    s1 = '/'.join(s1)\n",
    "    s2 = entry.split(\" \")[1]\n",
    "    s3 = s1 + \" \" + s2\n",
    "    return datetime.strptime(s3, \"%d/%m/%Y %H:%M:%S\")\n",
    "\n",
    "def cloudinessNormalizer(entry):\n",
    "    cloudiness = entry\n",
    "    if cloudiness < 10:\n",
    "        cloudiness = 0\n",
    "    elif cloudiness > 10 and cloudiness < 20:\n",
    "        cloudiness = 1\n",
    "    elif cloudiness > 20 and cloudiness < 30:\n",
    "        cloudiness = 2\n",
    "    elif cloudiness > 30 and cloudiness < 40:\n",
    "        cloudiness = 3\n",
    "    elif cloudiness > 40 and cloudiness < 50:\n",
    "        cloudiness = 4\n",
    "    elif cloudiness > 50 and cloudiness < 60:\n",
    "        cloudiness = 5\n",
    "    elif cloudiness > 60 and cloudiness < 70:\n",
    "        cloudiness = 6\n",
    "    elif cloudiness > 70 and cloudiness < 80:\n",
    "        cloudiness = 7\n",
    "    elif cloudiness > 80 and cloudiness < 90:\n",
    "        cloudiness = 8\n",
    "    elif cloudiness > 90 and cloudiness <= 100:\n",
    "        cloudiness = 9\n",
    "    else:\n",
    "        cloudiness = 10\n",
    "    return cloudiness\n",
    "\n",
    "main_features['time'] = main_features.datetime.apply(timeSplit)\n",
    "\n",
    "\n",
    "#Changing date to a datetime object for easier selection\n",
    "convertDateTime = lambda date: np.array(date, dtype=np.datetime64)\n",
    "main_features['date'] = main_features.date.apply(convertDateTime)\n",
    "main_features['rain3h'].fillna(value=0, inplace=True)\n",
    "main_features['cloudiness'].apply(cloudinessNormalizer)\n",
    "main_features.drop(columns=['datetime'], inplace=True)\n",
    "print(main_features.columns)\n"
   ]
  },
  {
   "cell_type": "code",
   "execution_count": 20,
   "metadata": {},
   "outputs": [
    {
     "name": "stdout",
     "output_type": "stream",
     "text": [
      "[ 40   1  90  75  20  48  65  79  98  80  39  91 100  99  96  21  26  16\n",
      "  31  29  33  28   2   5  18  63  70  93  97  78  57  77   3  89  45  14\n",
      "  13  35  72  44  36  52  19   7  53  62  92  94  84   0  12  87  69  59\n",
      "  24  34   4  51  41  27  83  68  30  82  76  88  95  58  61  23   9  74\n",
      "   8  15  22  55  37  32  73  56  85  50  43  86  10  47  49  42  25  17\n",
      "  81  67  46  11   6  38  54  64  60  71  66]\n"
     ]
    }
   ],
   "source": [
    "print(main_features.cloudiness.unique())\n",
    "#Tried converting cloudiness using function in main cell, not sure why not working"
   ]
  },
  {
   "cell_type": "code",
   "execution_count": 5,
   "metadata": {},
   "outputs": [
    {
     "name": "stdout",
     "output_type": "stream",
     "text": [
      "[ 87  93 100  76  82  71  86  92  81  66  67  58  55  62  89  88  45  51\n",
      "  59  91  72  63  48  40  46  54  80  70  43  57  61  75  69  74  65  49\n",
      "  53  50  47  56  60  52  37  34  39  41  42  44  36  32  31  38  33  29\n",
      "  25  21  20  18  26  22  27  77  64  35  28  24  30  68  90  95  97  85\n",
      "  83  94  13  14  17  23  19  73  96  84  16  15  78  98  79  99  12   8\n",
      "   9  10  11   6   7   5]\n"
     ]
    }
   ],
   "source": [
    "print(main_features.humidity.unique())"
   ]
  },
  {
   "cell_type": "markdown",
   "metadata": {},
   "source": [
    "# Part 2: Selecting rows for historical fires and storing them in new datasets"
   ]
  },
  {
   "cell_type": "code",
   "execution_count": null,
   "metadata": {},
   "outputs": [],
   "source": [
    "print(main_features['rain3h'].count())\n",
    "main_features.to_csv('main_features')"
   ]
  },
  {
   "cell_type": "code",
   "execution_count": 6,
   "metadata": {},
   "outputs": [
    {
     "data": {
      "text/html": [
       "<div>\n",
       "<style scoped>\n",
       "    .dataframe tbody tr th:only-of-type {\n",
       "        vertical-align: middle;\n",
       "    }\n",
       "\n",
       "    .dataframe tbody tr th {\n",
       "        vertical-align: top;\n",
       "    }\n",
       "\n",
       "    .dataframe thead th {\n",
       "        text-align: right;\n",
       "    }\n",
       "</style>\n",
       "<table border=\"1\" class=\"dataframe\">\n",
       "  <thead>\n",
       "    <tr style=\"text-align: right;\">\n",
       "      <th></th>\n",
       "      <th>city</th>\n",
       "      <th>temp</th>\n",
       "      <th>humidity</th>\n",
       "      <th>windspeed</th>\n",
       "      <th>rain3h</th>\n",
       "      <th>cloudiness</th>\n",
       "      <th>date</th>\n",
       "      <th>time</th>\n",
       "      <th>1000Acres</th>\n",
       "      <th>ID</th>\n",
       "      <th>droughtIndex</th>\n",
       "    </tr>\n",
       "  </thead>\n",
       "  <tbody>\n",
       "    <tr>\n",
       "      <th>230193</th>\n",
       "      <td>Loma Chiquita</td>\n",
       "      <td>63.54</td>\n",
       "      <td>83</td>\n",
       "      <td>5.82</td>\n",
       "      <td>0.0</td>\n",
       "      <td>1</td>\n",
       "      <td>2009-10-25</td>\n",
       "      <td>2009-10-25 00:00:00</td>\n",
       "      <td>1</td>\n",
       "      <td>Loma2009</td>\n",
       "      <td>295</td>\n",
       "    </tr>\n",
       "    <tr>\n",
       "      <th>230194</th>\n",
       "      <td>Loma Chiquita</td>\n",
       "      <td>61.45</td>\n",
       "      <td>86</td>\n",
       "      <td>4.70</td>\n",
       "      <td>0.0</td>\n",
       "      <td>1</td>\n",
       "      <td>2009-10-25</td>\n",
       "      <td>2009-10-25 01:00:00</td>\n",
       "      <td>1</td>\n",
       "      <td>Loma2009</td>\n",
       "      <td>295</td>\n",
       "    </tr>\n",
       "    <tr>\n",
       "      <th>230195</th>\n",
       "      <td>Loma Chiquita</td>\n",
       "      <td>58.73</td>\n",
       "      <td>96</td>\n",
       "      <td>5.82</td>\n",
       "      <td>0.0</td>\n",
       "      <td>90</td>\n",
       "      <td>2009-10-25</td>\n",
       "      <td>2009-10-25 02:00:00</td>\n",
       "      <td>1</td>\n",
       "      <td>Loma2009</td>\n",
       "      <td>295</td>\n",
       "    </tr>\n",
       "    <tr>\n",
       "      <th>230196</th>\n",
       "      <td>Loma Chiquita</td>\n",
       "      <td>57.52</td>\n",
       "      <td>93</td>\n",
       "      <td>5.12</td>\n",
       "      <td>0.0</td>\n",
       "      <td>90</td>\n",
       "      <td>2009-10-25</td>\n",
       "      <td>2009-10-25 03:00:00</td>\n",
       "      <td>1</td>\n",
       "      <td>Loma2009</td>\n",
       "      <td>295</td>\n",
       "    </tr>\n",
       "    <tr>\n",
       "      <th>230197</th>\n",
       "      <td>Loma Chiquita</td>\n",
       "      <td>57.11</td>\n",
       "      <td>100</td>\n",
       "      <td>3.36</td>\n",
       "      <td>0.0</td>\n",
       "      <td>90</td>\n",
       "      <td>2009-10-25</td>\n",
       "      <td>2009-10-25 04:00:00</td>\n",
       "      <td>1</td>\n",
       "      <td>Loma2009</td>\n",
       "      <td>295</td>\n",
       "    </tr>\n",
       "    <tr>\n",
       "      <th>...</th>\n",
       "      <td>...</td>\n",
       "      <td>...</td>\n",
       "      <td>...</td>\n",
       "      <td>...</td>\n",
       "      <td>...</td>\n",
       "      <td>...</td>\n",
       "      <td>...</td>\n",
       "      <td>...</td>\n",
       "      <td>...</td>\n",
       "      <td>...</td>\n",
       "      <td>...</td>\n",
       "    </tr>\n",
       "    <tr>\n",
       "      <th>230260</th>\n",
       "      <td>Loma Chiquita</td>\n",
       "      <td>61.61</td>\n",
       "      <td>26</td>\n",
       "      <td>12.75</td>\n",
       "      <td>0.0</td>\n",
       "      <td>1</td>\n",
       "      <td>2009-10-27</td>\n",
       "      <td>2009-10-27 19:00:00</td>\n",
       "      <td>1</td>\n",
       "      <td>Loma2009</td>\n",
       "      <td>295</td>\n",
       "    </tr>\n",
       "    <tr>\n",
       "      <th>230261</th>\n",
       "      <td>Loma Chiquita</td>\n",
       "      <td>62.65</td>\n",
       "      <td>27</td>\n",
       "      <td>9.17</td>\n",
       "      <td>0.0</td>\n",
       "      <td>1</td>\n",
       "      <td>2009-10-27</td>\n",
       "      <td>2009-10-27 20:00:00</td>\n",
       "      <td>1</td>\n",
       "      <td>Loma2009</td>\n",
       "      <td>295</td>\n",
       "    </tr>\n",
       "    <tr>\n",
       "      <th>230262</th>\n",
       "      <td>Loma Chiquita</td>\n",
       "      <td>63.82</td>\n",
       "      <td>24</td>\n",
       "      <td>10.29</td>\n",
       "      <td>0.0</td>\n",
       "      <td>1</td>\n",
       "      <td>2009-10-27</td>\n",
       "      <td>2009-10-27 21:00:00</td>\n",
       "      <td>1</td>\n",
       "      <td>Loma2009</td>\n",
       "      <td>295</td>\n",
       "    </tr>\n",
       "    <tr>\n",
       "      <th>230263</th>\n",
       "      <td>Loma Chiquita</td>\n",
       "      <td>63.50</td>\n",
       "      <td>23</td>\n",
       "      <td>13.87</td>\n",
       "      <td>0.0</td>\n",
       "      <td>1</td>\n",
       "      <td>2009-10-27</td>\n",
       "      <td>2009-10-27 22:00:00</td>\n",
       "      <td>1</td>\n",
       "      <td>Loma2009</td>\n",
       "      <td>295</td>\n",
       "    </tr>\n",
       "    <tr>\n",
       "      <th>230264</th>\n",
       "      <td>Loma Chiquita</td>\n",
       "      <td>63.39</td>\n",
       "      <td>21</td>\n",
       "      <td>12.75</td>\n",
       "      <td>0.0</td>\n",
       "      <td>1</td>\n",
       "      <td>2009-10-27</td>\n",
       "      <td>2009-10-27 23:00:00</td>\n",
       "      <td>1</td>\n",
       "      <td>Loma2009</td>\n",
       "      <td>295</td>\n",
       "    </tr>\n",
       "  </tbody>\n",
       "</table>\n",
       "<p>72 rows × 11 columns</p>\n",
       "</div>"
      ],
      "text/plain": [
       "                 city   temp  humidity  windspeed  rain3h  cloudiness  \\\n",
       "230193  Loma Chiquita  63.54        83       5.82     0.0           1   \n",
       "230194  Loma Chiquita  61.45        86       4.70     0.0           1   \n",
       "230195  Loma Chiquita  58.73        96       5.82     0.0          90   \n",
       "230196  Loma Chiquita  57.52        93       5.12     0.0          90   \n",
       "230197  Loma Chiquita  57.11       100       3.36     0.0          90   \n",
       "...               ...    ...       ...        ...     ...         ...   \n",
       "230260  Loma Chiquita  61.61        26      12.75     0.0           1   \n",
       "230261  Loma Chiquita  62.65        27       9.17     0.0           1   \n",
       "230262  Loma Chiquita  63.82        24      10.29     0.0           1   \n",
       "230263  Loma Chiquita  63.50        23      13.87     0.0           1   \n",
       "230264  Loma Chiquita  63.39        21      12.75     0.0           1   \n",
       "\n",
       "              date                time  1000Acres        ID  droughtIndex  \n",
       "230193  2009-10-25 2009-10-25 00:00:00          1  Loma2009           295  \n",
       "230194  2009-10-25 2009-10-25 01:00:00          1  Loma2009           295  \n",
       "230195  2009-10-25 2009-10-25 02:00:00          1  Loma2009           295  \n",
       "230196  2009-10-25 2009-10-25 03:00:00          1  Loma2009           295  \n",
       "230197  2009-10-25 2009-10-25 04:00:00          1  Loma2009           295  \n",
       "...            ...                 ...        ...       ...           ...  \n",
       "230260  2009-10-27 2009-10-27 19:00:00          1  Loma2009           295  \n",
       "230261  2009-10-27 2009-10-27 20:00:00          1  Loma2009           295  \n",
       "230262  2009-10-27 2009-10-27 21:00:00          1  Loma2009           295  \n",
       "230263  2009-10-27 2009-10-27 22:00:00          1  Loma2009           295  \n",
       "230264  2009-10-27 2009-10-27 23:00:00          1  Loma2009           295  \n",
       "\n",
       "[72 rows x 11 columns]"
      ]
     },
     "metadata": {},
     "output_type": "display_data"
    },
    {
     "name": "stdout",
     "output_type": "stream",
     "text": [
      "temp          0\n",
      "windspeed     0\n",
      "humidity      0\n",
      "rain3h        0\n",
      "cloudiness    0\n",
      "dtype: int64\n"
     ]
    }
   ],
   "source": [
    "\"\"\"Part 2: Selecting rows for historical fires and storing them in new dataframes\"\"\"\n",
    "len_firedata = 0\n",
    "#Loma Fire of 2009\n",
    "#Start: October 25, 2009\n",
    "#Contained: October 27, 2009\n",
    "#Size: 485 Acres\n",
    "#Location: Loma Chiquita\n",
    "#Fire Over 1000 Label: 0\n",
    "LomaFire2009 = main_features.copy()\n",
    "startDate = np.array('2009-10-25', dtype=np.datetime64)\n",
    "lstartDate = startDate + np.arange(3)\n",
    "LomaFire2009 = LomaFire2009[(LomaFire2009.city == 'Loma Chiquita') & (LomaFire2009.date.isin(lstartDate))]\n",
    "LomaFire2009['1000Acres'] = 1\n",
    "LomaFire2009['ID'] = \"Loma2009\"\n",
    "LomaFire2009['droughtIndex'] = 295\n",
    "LomaFire2009['rain3h'].fillna(value=0, inplace=True)\n",
    "len_firedata += len(LomaFire2009)\n",
    "display(LomaFire2009)\n",
    "print(LomaFire2009[['temp', 'windspeed', 'humidity', 'rain3h', 'cloudiness']].isnull().sum())\n",
    "#Whitehurst Fire of 2008\n",
    "#Start: June 21, 2008\n",
    "#Contained: June 23, 2008\n",
    "#Size: 200 Acres\n",
    "#Location: Hecker Pass\n",
    "#Fire Over 1000 Label: 0\n",
    "WhitehurstFire2008 = main_features.copy()\n",
    "startDate = np.array('2008-06-21', dtype=np.datetime64)\n",
    "wstartDate = startDate + np.arange(3)\n",
    "WhitehurstFire2008 = WhitehurstFire2008[(WhitehurstFire2008.city == 'Hecker Pass') & (WhitehurstFire2008.date.isin(wstartDate))]\n",
    "WhitehurstFire2008['1000Acres'] = 0\n",
    "WhitehurstFire2008['ID'] = \"Whitehurst2008\"\n",
    "WhitehurstFire2008['rain3h'].fillna(value=0, inplace=True)\n",
    "WhitehurstFire2008['droughtIndex'] = 200\n",
    "len_firedata += len(WhitehurstFire2008)\n",
    "#Summit Fire of 2008\n",
    "#Start: May 22, 2008\n",
    "#Contained: May 27, 2008\n",
    "#Size: 4270 Acres\n",
    "#Location: Sveadal\n",
    "#Fire Over 1000 Label: 1\n",
    "SummitFire2008 = main_features.copy()\n",
    "startDate = np.array('2008-05-22', dtype=np.datetime64)\n",
    "sstartDate = startDate + np.arange(6)\n",
    "SummitFire2008 = SummitFire2008[(SummitFire2008.city == 'Sveadal') & (SummitFire2008.date.isin(sstartDate))]\n",
    "SummitFire2008['1000Acres'] = 1\n",
    "SummitFire2008['ID'] = \"Summit2008\"\n",
    "SummitFire2008['rain3h'].fillna(value=0, inplace=True)\n",
    "SummitFire2008['droughtIndex'] = 100\n",
    "len_firedata += len(SummitFire2008)\n",
    "#Loma Fire of 2016\n",
    "#Start: September 26, 2016\n",
    "#Contained: October 12, 2016\n",
    "#Size: 4474 Acres\n",
    "#Location: Loma Chiquita\n",
    "#Fire Over 1000 Label: 1\n",
    "LomaFire2016 = main_features.copy()\n",
    "startDate = np.array('2016-09-26', dtype=np.datetime64)\n",
    "l2startDate = startDate + np.arange(17)\n",
    "LomaFire2016 = LomaFire2016[(LomaFire2016.city == 'Loma Chiquita') & (LomaFire2016.date.isin(l2startDate))]\n",
    "LomaFire2016['1000Acres'] = 1\n",
    "LomaFire2016['ID'] = \"Loma2016\"\n",
    "LomaFire2016['rain3h'].fillna(value=0, inplace=True)\n",
    "LomaFire2016['droughtIndex'] = 295\n",
    "len_firedata += len(LomaFire2016)\n",
    "#Croy Fire of 2002\n",
    "#Start: September 23, 2002\n",
    "#End: September 29, 2002\n",
    "#Size: 3127 Acres\n",
    "#Location: Sveadal\n",
    "#Fire Over 1000 Label: 1\n",
    "CroyFire2002 = main_features.copy()\n",
    "startDate = np.array('2002-09-23', dtype=np.datetime64)\n",
    "cstartDate = startDate + np.arange(7)\n",
    "CroyFire2002 = CroyFire2002[(CroyFire2002.city == 'Loma Chiquita') & (CroyFire2002.date.isin(cstartDate))]\n",
    "CroyFire2002['1000Acres'] = 1\n",
    "CroyFire2002['ID'] = \"Croy2002\"\n",
    "CroyFire2002['rain3h'].fillna(value=0, inplace=True)\n",
    "CroyFire2002['droughtIndex'] = 100\n",
    "len_firedata += len(CroyFire2002)"
   ]
  },
  {
   "cell_type": "markdown",
   "metadata": {},
   "source": [
    "# Part 3: Exploratory Data Analysis"
   ]
  },
  {
   "cell_type": "markdown",
   "metadata": {},
   "source": [
    "### Feature 1: Temperature"
   ]
  },
  {
   "cell_type": "code",
   "execution_count": 13,
   "metadata": {},
   "outputs": [],
   "source": [
    "wildfires = pd.concat([LomaFire2009, WhitehurstFire2008, SummitFire2008, LomaFire2016, CroyFire2002])\n",
    "wildfires.temp = wildfires['temp'].astype(int)\n",
    "tempMean = wildfires.groupby(\"ID\").temp.apply(np.mean)\n",
    "tempMedian = wildfires.groupby(\"ID\").temp.apply(np.median)"
   ]
  },
  {
   "cell_type": "code",
   "execution_count": null,
   "metadata": {},
   "outputs": [],
   "source": [
    "\n",
    "tempMax = wildfires.groupby(\"ID\").temp.apply(np.max)\n",
    "tempMin = wildfires.groupby(\"ID\").temp.apply(np.min)\n",
    "\"\"\"\n",
    "temp25 = wildfires.groupby(\"ID\").temp.apply(np.percentile(wildfires.temp, 25))\n",
    "temp75 = wildfires.groupby(\"ID\").temp.apply(np.percentile(wildfires.temp, 75))\n",
    "tempStd = wildfires.groupby(\"ID\").temp.apply(np.std)\n",
    "\"\"\"\n",
    "\n",
    "\"\"\"\n",
    "print(\"Mean\", tempMean, \"\\n\")\n",
    "print(\"Median\", tempMedian, \"\\n\")\n",
    "print(\"Max\", tempMax, \"\\n\")\n",
    "print(\"Min\", tempMin, \"\\n\")\n",
    "#print(\"25\", temp25)\n",
    "#print(\"75\", temp75)\n",
    "print(\"Std\", tempStd, \"\\n\")\n",
    "\"\"\"\n"
   ]
  },
  {
   "cell_type": "code",
   "execution_count": null,
   "metadata": {},
   "outputs": [],
   "source": [
    "print(wildfires.temp.dtype)\n",
    "\n",
    "#wildfires.quantile(0.25, numeric_only=False)\n",
    "#temp25 = wildfires.groupby(\"ID\").temp.apply(np.quantile(wildfires.temp, .25))\n",
    "#temp75 = wildfires.groupby(\"ID\").temp.apply(np.percentile(wildfires.temp, 75))\n",
    "#tempStd = wildfires.groupby(\"ID\").temp.apply(np.std)"
   ]
  },
  {
   "cell_type": "markdown",
   "metadata": {},
   "source": [
    "### Feature 2: Humidity"
   ]
  },
  {
   "cell_type": "code",
   "execution_count": null,
   "metadata": {},
   "outputs": [],
   "source": [
    "humidityMean = wildfires.groupby(\"ID\").humidity.apply(np.mean)\n",
    "humidityMedian = wildfires.groupby(\"ID\").humidity.apply(np.median)\n",
    "humidityMax = wildfires.groupby(\"ID\").humidity.apply(np.max)\n",
    "humidityMin = wildfires.groupby(\"ID\").humidity.apply(np.min)\n",
    "#humidity25 = wildfires.groupby(\"ID\").humidity.apply(np.percentile(wildfires.humidity, 25))\n",
    "#humidity75 = wildfires.groupby(\"ID\").humidity.apply(np.percentile(wildfires.humidity, 75))\n",
    "humidityStd = wildfires.groupby(\"ID\").humidity.apply(np.std)\n",
    "\n",
    "print(\"Mean\", humidityMean, \"\\n\")\n",
    "print(\"Median\", humidityMedian, \"\\n\")\n",
    "print(\"Max\", humidityMax, \"\\n\")\n",
    "print(\"Min\", humidityMin, \"\\n\")\n",
    "#print(\"25\", humidity25)\n",
    "#print(\"75\", humidity75)\n",
    "print(\"Std\", humidityStd, \"\\n\")\n"
   ]
  },
  {
   "cell_type": "markdown",
   "metadata": {},
   "source": [
    "### Feature 3: Wind Speed"
   ]
  },
  {
   "cell_type": "code",
   "execution_count": null,
   "metadata": {},
   "outputs": [],
   "source": [
    "windSpeedMean = wildfires.groupby(\"ID\").windspeed.apply(np.mean)\n",
    "windSpeedMedian = wildfires.groupby(\"ID\").windspeed.apply(np.median)\n",
    "windSpeedMax = wildfires.groupby(\"ID\").windspeed.apply(np.max)\n",
    "windSpeedMin = wildfires.groupby(\"ID\").windspeed.apply(np.min)\n",
    "#windSpeed25 = wildfires.groupby(\"ID\").windspeed.apply(np.percentile(wildfires.windspeed, 25))\n",
    "#windSpeed75 = wildfires.groupby(\"ID\").windspeed.apply(np.percentile(wildfires.windspeed, 75))\n",
    "windSpeedStd = wildfires.groupby(\"ID\").windspeed.apply(np.std)\n",
    "\n",
    "print(\"Mean\", windSpeedMean, \"\\n\")\n",
    "print(\"Median\", windSpeedMedian, \"\\n\")\n",
    "print(\"Max\", windSpeedMax, \"\\n\")\n",
    "print(\"Min\", windSpeedMin, \"\\n\")\n",
    "#print(\"25\", windSpeed25)\n",
    "#print(\"75\", windSpeed75)\n",
    "print(\"Std\", windSpeedStd, \"\\n\")\n"
   ]
  },
  {
   "cell_type": "markdown",
   "metadata": {},
   "source": [
    "### Feature 4: Cloudiness"
   ]
  },
  {
   "cell_type": "code",
   "execution_count": null,
   "metadata": {
    "scrolled": true
   },
   "outputs": [],
   "source": [
    "cloudinessMean = wildfires.groupby(\"ID\").cloudiness.apply(np.mean)\n",
    "cloudinessMedian = wildfires.groupby(\"ID\").cloudiness.apply(np.median)\n",
    "cloudinessMax = wildfires.groupby(\"ID\").cloudiness.apply(np.max)\n",
    "cloudinessMin = wildfires.groupby(\"ID\").cloudiness.apply(np.min)\n",
    "#cloudiness25 = wildfires.groupby(\"ID\").cloudiness.apply(np.percentile(wildfires.cloudiness, 25))\n",
    "#cloudiness75 = wildfires.groupby(\"ID\").cloudiness.apply(np.percentile(wildfires.cloudiness, 75))\n",
    "cloudinessStd = wildfires.groupby(\"ID\").cloudiness.apply(np.std)\n",
    "  \n",
    "print(\"Median\", cloudinessMedian, \"\\n\")\n",
    "print(\"Mean\", cloudinessMean, \"\\n\")\n",
    "print(\"Max\", cloudinessMax, \"\\n\")\n",
    "print(\"Min\", cloudinessMin, \"\\n\")\n",
    "#print(\"25\", cloudiness25)\n",
    "#print(\"75\", cloudiness75)\n",
    "print(\"Std\", cloudinessStd, \"\\n\")"
   ]
  },
  {
   "cell_type": "markdown",
   "metadata": {},
   "source": [
    "### Feature 5: Rainfall in last 3 hours"
   ]
  },
  {
   "cell_type": "code",
   "execution_count": null,
   "metadata": {},
   "outputs": [],
   "source": [
    "rain3hMean = wildfires.groupby(\"ID\").rain3h.apply(np.mean)\n",
    "rain3hMedian = wildfires.groupby(\"ID\").rain3h.apply(np.median)\n",
    "rain3hMax = wildfires.groupby(\"ID\").rain3h.apply(np.max)\n",
    "rain3hMin = wildfires.groupby(\"ID\").rain3h.apply(np.min)\n",
    "#rain3h25 = wildfires.groupby(\"ID\").rain3h.apply(np.percentile(wildfires.rain3h, 25))\n",
    "#rain3h75 = wildfires.groupby(\"ID\").rain3h.apply(np.percentile(wildfires.rain3h, 75))\n",
    "rain3hStd = wildfires.groupby(\"ID\").rain3h.apply(np.std)\n",
    "\n",
    "print(\"Median\", rain3hMedian, \"\\n\")\n",
    "print(\"Mean\", rain3hMean, \"\\n\")\n",
    "print(\"Max\", rain3hMax, \"\\n\")\n",
    "print(\"Min\", rain3hMin, \"\\n\")\n",
    "#print(\"25\", rain3h25)\n",
    "#print(\"75\", rain3h75)\n",
    "print(\"Std\", rain3hStd, \"\\n\")"
   ]
  },
  {
   "cell_type": "markdown",
   "metadata": {},
   "source": [
    "## Time Series Graphs"
   ]
  },
  {
   "cell_type": "markdown",
   "metadata": {},
   "source": [
    "### Temperature"
   ]
  },
  {
   "cell_type": "code",
   "execution_count": 7,
   "metadata": {
    "scrolled": false
   },
   "outputs": [
    {
     "data": {
      "text/plain": [
       "Text(0.5, 1.0, 'Croy Fire 2002 Temperature vs TimeSeries')"
      ]
     },
     "execution_count": 7,
     "metadata": {},
     "output_type": "execute_result"
    },
    {
     "data": {
      "image/png": "[encoded data removed]",
      "text/plain": [
       "<Figure size 1440x720 with 1 Axes>"
      ]
     },
     "metadata": {
      "needs_background": "light"
     },
     "output_type": "display_data"
    },
    {
     "data": {
      "image/png": "[encoded data removed]",
      "text/plain": [
       "<Figure size 1440x720 with 1 Axes>"
      ]
     },
     "metadata": {
      "needs_background": "light"
     },
     "output_type": "display_data"
    },
    {
     "data": {
      "image/png": "[encoded data removed]",
      "text/plain": [
       "<Figure size 1440x720 with 1 Axes>"
      ]
     },
     "metadata": {
      "needs_background": "light"
     },
     "output_type": "display_data"
    },
    {
     "data": {
      "image/png": "[encoded data removed]",
      "text/plain": [
       "<Figure size 1440x720 with 1 Axes>"
      ]
     },
     "metadata": {
      "needs_background": "light"
     },
     "output_type": "display_data"
    },
    {
     "data": {
      "image/png": "[encoded data removed]",
      "text/plain": [
       "<Figure size 1440x720 with 1 Axes>"
      ]
     },
     "metadata": {
      "needs_background": "light"
     },
     "output_type": "display_data"
    }
   ],
   "source": [
    "#Loma Fire 2009\n",
    "plt.figure(figsize=(20, 10))\n",
    "plt.plot_date(LomaFire2009['time'], LomaFire2009['temp'], fmt='o', tz=None, xdate=True)\n",
    "plt.xlabel(\"Time\")\n",
    "plt.ylabel(\"Temperature\")\n",
    "plt.title(\"Loma Fire 2009 Temperature vs TimeSeries\")\n",
    "#Whitehurst Fire 2008\n",
    "\n",
    "plt.figure(figsize=(20, 10))\n",
    "plt.plot_date(WhitehurstFire2008['time'], WhitehurstFire2008['temp'], fmt='o', tz=None, xdate=True)\n",
    "plt.xlabel(\"Time\")\n",
    "plt.ylabel(\"Temperature\")\n",
    "plt.title(\"Whitehurst Fire 2008 Temperature vs TimeSeries\")\n",
    "#Summit Fire 2008\n",
    "\n",
    "plt.figure(figsize=(20, 10))\n",
    "plt.plot_date(SummitFire2008['time'], SummitFire2008['temp'], fmt='o', tz=None, xdate=True)\n",
    "plt.xlabel(\"Time\")\n",
    "plt.ylabel(\"Temperature\")\n",
    "plt.title(\"Summit Fire 2008 Temperature vs TimeSeries\")\n",
    "#Loma Fire 2016\n",
    "\n",
    "plt.figure(figsize=(20, 10))\n",
    "plt.plot_date(LomaFire2016['time'], LomaFire2016['temp'], fmt='o', tz=None, xdate=True)\n",
    "plt.xlabel(\"Time\")\n",
    "plt.ylabel(\"Temperature\")\n",
    "plt.title(\"Loma Fire 2016 Temperature vs TimeSeries\")\n",
    "#Croy Fire 2002\n",
    "\n",
    "plt.figure(figsize=(20, 10))\n",
    "plt.plot_date(CroyFire2002['time'], CroyFire2002['temp'], fmt='o', tz=None, xdate=True)\n",
    "plt.xlabel(\"Time\")\n",
    "plt.ylabel(\"Temperature\")\n",
    "plt.title(\"Croy Fire 2002 Temperature vs TimeSeries\")\n",
    "#Ctrl/shift/p ---> close cell output to close graphs"
   ]
  },
  {
   "cell_type": "markdown",
   "metadata": {},
   "source": [
    "### Humidity"
   ]
  },
  {
   "cell_type": "code",
   "execution_count": null,
   "metadata": {},
   "outputs": [],
   "source": [
    "#Loma Fire 2009\n",
    "plt.figure(figsize=(20, 10))\n",
    "plt.plot_date(LomaFire2009['time'], LomaFire2009['humidity'], fmt='o', tz=None, xdate=True)\n",
    "\n",
    "#Whitehurst Fire 2008\n",
    "\n",
    "plt.figure(figsize=(20, 10))\n",
    "plt.plot_date(WhitehurstFire2008['time'], WhitehurstFire2008['humidity'], fmt='o', tz=None, xdate=True)\n",
    "\n",
    "#Summit Fire 2008\n",
    "\n",
    "plt.figure(figsize=(20, 10))\n",
    "plt.plot_date(SummitFire2008['time'], SummitFire2008['humidity'], fmt='o', tz=None, xdate=True)\n",
    "\n",
    "#Loma Fire 2016\n",
    "\n",
    "plt.figure(figsize=(20, 10))\n",
    "plt.plot_date(LomaFire2016['time'], LomaFire2016['humidity'], fmt='o', tz=None, xdate=True)\n",
    "\n",
    "#Croy Fire 2002\n",
    "\n",
    "plt.figure(figsize=(20, 10))\n",
    "plt.plot_date(CroyFire2002['time'], CroyFire2002['humidity'], fmt='o', tz=None, xdate=True)\n",
    "\n",
    "#Ctrl/shift/p ---> close cell output to close graphs"
   ]
  },
  {
   "cell_type": "markdown",
   "metadata": {},
   "source": [
    "### Wind Speed"
   ]
  },
  {
   "cell_type": "code",
   "execution_count": null,
   "metadata": {
    "scrolled": false
   },
   "outputs": [],
   "source": [
    "#Loma Fire 2009\n",
    "plt.figure(figsize=(20, 10))\n",
    "plt.plot_date(LomaFire2009['time'], LomaFire2009['windspeed'], fmt='o', tz=None, xdate=True)\n",
    "\n",
    "#Whitehurst Fire 2008\n",
    "\n",
    "plt.figure(figsize=(20, 10))\n",
    "plt.plot_date(WhitehurstFire2008['time'], WhitehurstFire2008['windspeed'], fmt='o', tz=None, xdate=True)\n",
    "\n",
    "#Summit Fire 2008\n",
    "\n",
    "plt.figure(figsize=(20, 10))\n",
    "plt.plot_date(SummitFire2008['time'], SummitFire2008['windspeed'], fmt='o', tz=None, xdate=True)\n",
    "plt.title(\"Summit Fire 2008 Windspeeds\")\n",
    "plt.xlabel(\"Time Series\")\n",
    "plt.ylabel(\"Wind Speed\")\n",
    "\n",
    "#Loma Fire 2016\n",
    "\n",
    "plt.figure(figsize=(20, 10))\n",
    "plt.plot_date(LomaFire2016['time'], LomaFire2016['windspeed'], fmt='o', tz=None, xdate=True)\n",
    "\n",
    "#Croy Fire 2002\n",
    "\n",
    "plt.figure(figsize=(20, 10))\n",
    "plt.plot_date(CroyFire2002['time'], CroyFire2002['windspeed'], fmt='o', tz=None, xdate=True)\n",
    "\n",
    "#Ctrl/shift/p ---> close cell output to close graphs"
   ]
  },
  {
   "cell_type": "markdown",
   "metadata": {},
   "source": [
    "### Cloudiness"
   ]
  },
  {
   "cell_type": "code",
   "execution_count": null,
   "metadata": {},
   "outputs": [],
   "source": [
    "\n",
    "\n",
    "#Loma Fire 2009\n",
    "plt.figure(figsize=(20, 10))\n",
    "plt.plot_date(LomaFire2009['time'], LomaFire2009['cloudiness'], fmt='o', tz=None, xdate=True)\n",
    "#Whitehurst Fire 2008\n",
    "\n",
    "plt.figure(figsize=(20, 10))\n",
    "plt.plot_date(WhitehurstFire2008['time'], WhitehurstFire2008['cloudiness'], fmt='o', tz=None, xdate=True)\n",
    "\n",
    "#Summit Fire 2008\n",
    "\n",
    "plt.figure(figsize=(20, 10))\n",
    "plt.plot_date(SummitFire2008['time'], SummitFire2008['cloudiness'], fmt='o', tz=None, xdate=True)\n",
    "\n",
    "#Loma Fire 2016\n",
    "\n",
    "plt.figure(figsize=(20, 10))\n",
    "plt.plot_date(LomaFire2016['time'], LomaFire2016['cloudiness'], fmt='o', tz=None, xdate=True)\n",
    "\n",
    "#Croy Fire 2002\n",
    "\n",
    "plt.figure(figsize=(20, 10))\n",
    "plt.plot_date(CroyFire2002['time'], CroyFire2002['cloudiness'], fmt='o', tz=None, xdate=True)\n",
    "\n",
    "#Ctrl/shift/p ---> close cell output to close graphs"
   ]
  },
  {
   "cell_type": "markdown",
   "metadata": {},
   "source": [
    "### Rainfall in last 3 hours"
   ]
  },
  {
   "cell_type": "code",
   "execution_count": null,
   "metadata": {},
   "outputs": [],
   "source": [
    "#Loma Fire 2009\n",
    "plt.figure(figsize=(20, 10))\n",
    "plt.plot_date(LomaFire2009['time'], LomaFire2009['rain3h'], fmt='o', tz=None, xdate=True)\n",
    "#Whitehurst Fire 2008\n",
    "\n",
    "plt.figure(figsize=(20, 10))\n",
    "plt.plot_date(WhitehurstFire2008['time'], WhitehurstFire2008['rain3h'], fmt='o', tz=None, xdate=True)\n",
    "\n",
    "#Summit Fire 2008\n",
    "\n",
    "plt.figure(figsize=(20, 10))\n",
    "plt.plot_date(SummitFire2008['time'], SummitFire2008['rain3h'], fmt='o', tz=None, xdate=True)\n",
    "\n",
    "#Loma Fire 2016\n",
    "\n",
    "plt.figure(figsize=(20, 10))\n",
    "plt.plot_date(LomaFire2016['time'], LomaFire2016['rain3h'], fmt='o', tz=None, xdate=True)\n",
    "\n",
    "#Croy Fire 2002\n",
    "\n",
    "plt.figure(figsize=(20, 10))\n",
    "plt.plot_date(CroyFire2002['time'], CroyFire2002['rain3h'], fmt='o', tz=None, xdate=True)\n",
    "\n",
    "#Ctrl/shift/p ---> close cell output to close graphs\n"
   ]
  },
  {
   "cell_type": "markdown",
   "metadata": {},
   "source": [
    "## Histograms"
   ]
  },
  {
   "cell_type": "markdown",
   "metadata": {},
   "source": [
    "### Temperature"
   ]
  },
  {
   "cell_type": "code",
   "execution_count": 8,
   "metadata": {
    "scrolled": true
   },
   "outputs": [
    {
     "data": {
      "text/plain": [
       "Text(0.5, 1.0, 'CF02')"
      ]
     },
     "execution_count": 8,
     "metadata": {},
     "output_type": "execute_result"
    },
    {
     "data": {
      "image/png": "[encoded data removed]",
      "text/plain": [
       "<Figure size 432x288 with 5 Axes>"
      ]
     },
     "metadata": {
      "needs_background": "light"
     },
     "output_type": "display_data"
    }
   ],
   "source": [
    "plt.subplots_adjust(hspace=0.7, wspace=0.7)\n",
    "#Temperature\n",
    "plt.subplot(2, 3, 1)\n",
    "plt.hist(LomaFire2009.temp)\n",
    "plt.ylabel(\"Frequency\")\n",
    "plt.xlabel(\"Temperature\")\n",
    "plt.title(\"LF09\")\n",
    "\n",
    "#Whitehurst Fire 2008ax0.set_xscale('log') \n",
    "plt.subplot(2, 3, 2)\n",
    "plt.hist(WhitehurstFire2008.temp)\n",
    "plt.ylabel(\"Frequency\")\n",
    "plt.xlabel(\"Temperature\")\n",
    "plt.title(\"WF08\")\n",
    "\n",
    "#Summit Fire 2008\n",
    "plt.subplot(2, 3, 3)\n",
    "plt.hist(SummitFire2008.temp)\n",
    "plt.ylabel(\"Frequency\")\n",
    "plt.xlabel(\"Temperature\")\n",
    "plt.title(\"SF08\")\n",
    "\n",
    "#Loma Fire 2016\n",
    "plt.subplot(2, 3, 4)\n",
    "plt.hist(LomaFire2016.temp)\n",
    "plt.ylabel(\"Frequency\")\n",
    "plt.xlabel(\"Temperature\")\n",
    "plt.title(\"LF16\")\n",
    "\n",
    "#Croy Fire 2002\n",
    "plt.subplot(2, 3, 5)\n",
    "plt.hist(CroyFire2002.temp)\n",
    "plt.ylabel(\"Frequency\")\n",
    "plt.xlabel(\"Temperature\")\n",
    "plt.title(\"CF02\")"
   ]
  },
  {
   "cell_type": "markdown",
   "metadata": {},
   "source": [
    "### Humidity"
   ]
  },
  {
   "cell_type": "code",
   "execution_count": 9,
   "metadata": {},
   "outputs": [
    {
     "data": {
      "text/plain": [
       "Text(0.5, 1.0, 'CF02')"
      ]
     },
     "execution_count": 9,
     "metadata": {},
     "output_type": "execute_result"
    },
    {
     "data": {
      "image/png": "[encoded data removed]",
      "text/plain": [
       "<Figure size 432x288 with 5 Axes>"
      ]
     },
     "metadata": {
      "needs_background": "light"
     },
     "output_type": "display_data"
    }
   ],
   "source": [
    "plt.subplots_adjust(hspace=0.7, wspace=0.7)\n",
    "#Temperature\n",
    "plt.subplot(2, 3, 1)\n",
    "plt.hist(LomaFire2009.humidity)\n",
    "plt.ylabel(\"Frequency\")\n",
    "plt.xlabel(\"Temperature\")\n",
    "plt.title(\"LF09\")\n",
    "\n",
    "#Whitehurst Fire 2008\n",
    "plt.subplot(2, 3, 2)\n",
    "plt.hist(WhitehurstFire2008.humidity)\n",
    "plt.ylabel(\"Frequency\")\n",
    "plt.xlabel(\"Temperature\")\n",
    "plt.title(\"WF08\")\n",
    "\n",
    "#Summit Fire 2008\n",
    "plt.subplot(2, 3, 3)\n",
    "plt.hist(SummitFire2008.humidity)\n",
    "plt.ylabel(\"Frequency\")\n",
    "plt.xlabel(\"Temperature\")\n",
    "plt.title(\"SF08\")\n",
    "\n",
    "#Loma Fire 2016\n",
    "plt.subplot(2, 3, 4)\n",
    "plt.hist(LomaFire2016.humidity)\n",
    "plt.ylabel(\"Frequency\")\n",
    "plt.xlabel(\"Temperature\")\n",
    "plt.title(\"LF16\")\n",
    "\n",
    "#Croy Fire 2002\n",
    "plt.subplot(2, 3, 5)\n",
    "plt.hist(CroyFire2002.humidity)\n",
    "plt.ylabel(\"Frequency\")\n",
    "plt.xlabel(\"Temperature\")\n",
    "plt.title(\"CF02\")"
   ]
  },
  {
   "cell_type": "markdown",
   "metadata": {},
   "source": [
    "### Wind Speed"
   ]
  },
  {
   "cell_type": "code",
   "execution_count": 28,
   "metadata": {},
   "outputs": [
    {
     "data": {
      "text/plain": [
       "Text(0.5, 1.0, 'CF02')"
      ]
     },
     "execution_count": 28,
     "metadata": {},
     "output_type": "execute_result"
    },
    {
     "data": {
      "image/png": "[encoded data removed]",
      "text/plain": [
       "<Figure size 432x288 with 5 Axes>"
      ]
     },
     "metadata": {
      "needs_background": "light"
     },
     "output_type": "display_data"
    }
   ],
   "source": [
    "plt.subplots_adjust(hspace=0.7, wspace=0.7)\n",
    "#Temperature\n",
    "plt.subplot(2, 3, 1)\n",
    "plt.hist(LomaFire2009.windspeed)\n",
    "plt.ylabel(\"Frequency\")\n",
    "plt.xlabel(\"Temperature\")\n",
    "plt.title(\"LF09\")\n",
    "\n",
    "#Whitehurst Fire 2008\n",
    "plt.subplot(2, 3, 2)\n",
    "plt.hist(WhitehurstFire2008.windspeed)\n",
    "plt.ylabel(\"Frequency\")\n",
    "plt.xlabel(\"Temperature\")\n",
    "plt.title(\"WF08\")\n",
    "\n",
    "#Summit Fire 2008\n",
    "plt.subplot(2, 3, 3)\n",
    "plt.hist(SummitFire2008.windspeed)\n",
    "plt.ylabel(\"Frequency\")\n",
    "plt.xlabel(\"Wind Speed\")\n",
    "plt.title(\"SF08\")\n",
    "\n",
    "#Loma Fire 2016\n",
    "plt.subplot(2, 3, 4)\n",
    "plt.hist(LomaFire2016.windspeed)\n",
    "plt.ylabel(\"Frequency\")\n",
    "plt.xlabel(\"Temperature\")\n",
    "plt.title(\"LF16\")\n",
    "\n",
    "#Croy Fire 2002\n",
    "plt.subplot(2, 3, 5)\n",
    "plt.hist(CroyFire2002.windspeed)\n",
    "plt.ylabel(\"Frequency\")\n",
    "plt.xlabel(\"Temperature\")\n",
    "plt.title(\"CF02\")"
   ]
  },
  {
   "cell_type": "markdown",
   "metadata": {},
   "source": [
    "### Cloudiness"
   ]
  },
  {
   "cell_type": "code",
   "execution_count": 10,
   "metadata": {},
   "outputs": [
    {
     "data": {
      "text/plain": [
       "Text(0.5, 1.0, 'CF02')"
      ]
     },
     "execution_count": 10,
     "metadata": {},
     "output_type": "execute_result"
    },
    {
     "data": {
      "image/png": "[encoded data removed]",
      "text/plain": [
       "<Figure size 432x288 with 5 Axes>"
      ]
     },
     "metadata": {
      "needs_background": "light"
     },
     "output_type": "display_data"
    }
   ],
   "source": [
    "plt.subplots_adjust(hspace=0.7, wspace=0.7)\n",
    "#Temperature\n",
    "plt.subplot(2, 3, 1)\n",
    "plt.hist(LomaFire2009.cloudiness)\n",
    "plt.ylabel(\"Frequency\")\n",
    "plt.xlabel(\"Temperature\")\n",
    "plt.title(\"LF09\")\n",
    "\n",
    "#Whitehurst Fire 2008\n",
    "plt.subplot(2, 3, 2)\n",
    "plt.hist(WhitehurstFire2008.cloudiness)\n",
    "plt.ylabel(\"Frequency\")\n",
    "plt.xlabel(\"Temperature\")\n",
    "plt.title(\"WF08\")\n",
    "\n",
    "#Summit Fire 2008\n",
    "plt.subplot(2, 3, 3)\n",
    "plt.hist(SummitFire2008.cloudiness)\n",
    "plt.ylabel(\"Frequency\")\n",
    "plt.xlabel(\"Temperature\")\n",
    "plt.title(\"SF08\")\n",
    "\n",
    "#Loma Fire 2016\n",
    "plt.subplot(2, 3, 4)\n",
    "plt.hist(LomaFire2016.cloudiness)\n",
    "plt.ylabel(\"Frequency\")\n",
    "plt.xlabel(\"Temperature\")\n",
    "plt.title(\"LF16\")\n",
    "\n",
    "#Croy Fire 2002\n",
    "plt.subplot(2, 3, 5)\n",
    "plt.hist(CroyFire2002.cloudiness)\n",
    "plt.ylabel(\"Frequency\")\n",
    "plt.xlabel(\"Temperature\")\n",
    "plt.title(\"CF02\")"
   ]
  },
  {
   "cell_type": "markdown",
   "metadata": {},
   "source": [
    "### Rainfall"
   ]
  },
  {
   "cell_type": "code",
   "execution_count": 11,
   "metadata": {},
   "outputs": [
    {
     "data": {
      "text/plain": [
       "Text(0.5, 1.0, 'CF02')"
      ]
     },
     "execution_count": 11,
     "metadata": {},
     "output_type": "execute_result"
    },
    {
     "data": {
      "image/png": "[encoded data removed]",
      "text/plain": [
       "<Figure size 432x288 with 5 Axes>"
      ]
     },
     "metadata": {
      "needs_background": "light"
     },
     "output_type": "display_data"
    }
   ],
   "source": [
    "plt.subplots_adjust(hspace=0.7, wspace=0.7)\n",
    "#Temperature\n",
    "plt.subplot(2, 3, 1)\n",
    "plt.hist(LomaFire2009.rain3h)\n",
    "plt.ylabel(\"Frequency\")\n",
    "plt.xlabel(\"Temperature\")\n",
    "plt.title(\"LF09\")\n",
    "\n",
    "#Whitehurst Fire 2008\n",
    "plt.subplot(2, 3, 2)\n",
    "plt.hist(WhitehurstFire2008.rain3h)\n",
    "plt.ylabel(\"Frequency\")\n",
    "plt.xlabel(\"Temperature\")\n",
    "plt.title(\"WF08\")\n",
    "\n",
    "#Summit Fire 2008\n",
    "plt.subplot(2, 3, 3)\n",
    "plt.hist(SummitFire2008.rain3h)\n",
    "plt.ylabel(\"Frequency\")\n",
    "plt.xlabel(\"Temperature\")\n",
    "plt.title(\"SF08\")\n",
    "\n",
    "#Loma Fire 2016\n",
    "plt.subplot(2, 3, 4)\n",
    "plt.hist(LomaFire2016.rain3h)\n",
    "plt.ylabel(\"Frequency\")\n",
    "plt.xlabel(\"Temperature\")\n",
    "plt.title(\"LF16\")\n",
    "\n",
    "#Croy Fire 2002\n",
    "plt.subplot(2, 3, 5)\n",
    "plt.hist(CroyFire2002.rain3h)\n",
    "plt.ylabel(\"Frequency\")\n",
    "plt.xlabel(\"Temperature\")\n",
    "plt.title(\"CF02\")"
   ]
  },
  {
   "cell_type": "markdown",
   "metadata": {},
   "source": [
    "# Part 4: Initial Model Fitting"
   ]
  },
  {
   "cell_type": "code",
   "execution_count": 16,
   "metadata": {},
   "outputs": [
    {
     "name": "stderr",
     "output_type": "stream",
     "text": [
      "C:\\Users\\docto\\miniconda3\\lib\\site-packages\\ipykernel_launcher.py:9: SettingWithCopyWarning: \n",
      "A value is trying to be set on a copy of a slice from a DataFrame.\n",
      "Try using .loc[row_indexer,col_indexer] = value instead\n",
      "\n",
      "See the caveats in the documentation: https://pandas.pydata.org/pandas-docs/stable/user_guide/indexing.html#returning-a-view-versus-a-copy\n",
      "  if __name__ == '__main__':\n",
      "C:\\Users\\docto\\miniconda3\\lib\\site-packages\\ipykernel_launcher.py:12: SettingWithCopyWarning: \n",
      "A value is trying to be set on a copy of a slice from a DataFrame.\n",
      "Try using .loc[row_indexer,col_indexer] = value instead\n",
      "\n",
      "See the caveats in the documentation: https://pandas.pydata.org/pandas-docs/stable/user_guide/indexing.html#returning-a-view-versus-a-copy\n",
      "  if sys.path[0] == '':\n"
     ]
    },
    {
     "name": "stdout",
     "output_type": "stream",
     "text": [
      "city            867\n",
      "temp            867\n",
      "humidity        867\n",
      "windspeed       867\n",
      "rain3h          867\n",
      "cloudiness      867\n",
      "date            867\n",
      "time            867\n",
      "1000Acres       867\n",
      "ID              867\n",
      "droughtIndex    867\n",
      "dtype: int64\n",
      "city          59723\n",
      "temp          59723\n",
      "humidity      59723\n",
      "windspeed     59723\n",
      "rain3h        59723\n",
      "cloudiness    59723\n",
      "date          59723\n",
      "time          59723\n",
      "1000Acres     59723\n",
      "dtype: int64\n",
      "Accuracy score of model: 0.991307696539583\n",
      "              precision    recall  f1-score   support\n",
      "\n",
      "           0       0.99      1.00      1.00     17934\n",
      "           1       0.84      0.43      0.57       243\n",
      "\n",
      "    accuracy                           0.99     18177\n",
      "   macro avg       0.92      0.72      0.78     18177\n",
      "weighted avg       0.99      0.99      0.99     18177\n",
      "\n",
      "[[17914    20]\n",
      " [  138   105]]\n"
     ]
    },
    {
     "data": {
      "image/png": "[encoded data removed]",
      "text/plain": [
       "<Figure size 432x288 with 1 Axes>"
      ]
     },
     "metadata": {
      "needs_background": "light"
     },
     "output_type": "display_data"
    },
    {
     "name": "stdout",
     "output_type": "stream",
     "text": [
      "[[0.37231573 0.11698818 1.         0.         0.9       ]\n",
      " [0.38914684 0.06285003 0.79347826 0.         0.9       ]\n",
      " [0.46851422 0.16303671 0.81521739 0.         0.9       ]\n",
      " ...\n",
      " [0.48592571 0.10889857 0.80434783 0.         0.9       ]\n",
      " [0.3115206  0.08400747 1.         0.         0.9       ]\n",
      " [0.27336042 0.11449907 0.91304348 0.         0.9       ]]\n",
      "[[0.99716912 0.00283088]\n",
      " [0.99527947 0.00472053]\n",
      " [0.97431429 0.02568571]\n",
      " ...\n",
      " [0.98815734 0.01184266]\n",
      " [0.99858567 0.00141433]\n",
      " [0.99618018 0.00381982]]\n"
     ]
    }
   ],
   "source": [
    "#imports\n",
    "from sklearn.metrics import confusion_matrix\n",
    "from sklearn.metrics import classification_report\n",
    "\n",
    "#Sampling non 1000 acre wildfires (period from 2017-2019)\n",
    "non1000FiresStart = datetime(2017, 1, 1)\n",
    "non1000FiresStop = datetime(2019, 12, 31)\n",
    "\n",
    "main_features['date'] = pd.to_datetime(main_features['date'], format=\"%Y/%m/%d\")\n",
    "non1000Fires = main_features[(main_features.date >= non1000FiresStart) & (main_features.date <= non1000FiresStop)]\n",
    "non1000Fires = main_features[(main_features.windspeed <= 3) & (main_features.temp <= 65) & (main_features.humidity > 80)]\n",
    "non1000Fires['1000Acres'] = 0\n",
    "non1000Fires.to_csv(\"non1000Fires\")\n",
    "\n",
    "print(wildfires.count())\n",
    "print(non1000Fires.count())\n",
    "\n",
    "#concatentating all 1000 acre wildfire and non 1000 acre wildfire data\n",
    "final_set = pd.concat([wildfires, non1000Fires])\n",
    "final_set_x = final_set[['temp', 'windspeed', 'humidity', 'rain3h', 'cloudiness']]\n",
    "final_set_y = final_set['1000Acres']\n",
    "\n",
    "#Splitting and scaling dataset with train_test_split and min-max normalization\n",
    "X_train, X_test, y_train, y_test = ms.train_test_split(final_set_x, final_set_y, train_size=0.7,test_size=0.3)\n",
    "scaler = MinMaxScaler()\n",
    "X_train = scaler.fit_transform(X_train)\n",
    "X_test = scaler.fit_transform(X_test)\n",
    "\n",
    "#Fitting data to Logistic Regression algorithm\n",
    "model = LogisticRegression()\n",
    "model.fit(X_train, y_train)\n",
    "y_pred = model.predict(X_test)\n",
    "\n",
    "#classification report\n",
    "print(\"Accuracy score of model:\", model.score(X_test, y_test))\n",
    "print(classification_report(y_test, y_pred))\n",
    "\n",
    "#prints number of correct vs incorrect predictions\n",
    "confusion_matrix = confusion_matrix(y_test, y_pred)\n",
    "print(confusion_matrix)\n",
    "\n",
    "# Assign feature coefficients to \n",
    "coefficients = model.coef_\n",
    "coefficients = coefficients.tolist()[0]\n",
    "\n",
    "# Plot bar graph of feature coefficients\n",
    "plt.bar([1,2, 3, 4, 5],coefficients)\n",
    "plt.xticks([1,2, 3, 4, 5],['temp','windspeed', 'humidity', 'rain3h', 'cloudiness'])\n",
    "plt.xlabel('feature')\n",
    "plt.ylabel('coefficient')\n",
    "plt.title('coefficients vs feature of model')\n",
    "plt.show()\n",
    "\n",
    "#Print output probabilities for test set\n",
    "print(X_test)\n",
    "y_pred_array = model.predict_proba(X_test)\n",
    "print(y_pred_array)\n",
    "\n"
   ]
  },
  {
   "cell_type": "code",
   "execution_count": null,
   "metadata": {},
   "outputs": [],
   "source": []
  },
  {
   "cell_type": "code",
   "execution_count": null,
   "metadata": {},
   "outputs": [],
   "source": []
  }
 ],
 "metadata": {
  "kernelspec": {
   "display_name": "Python 3",
   "language": "python",
   "name": "python3"
  },
  "language_info": {
   "codemirror_mode": {
    "name": "ipython",
    "version": 3
   },
   "file_extension": ".py",
   "mimetype": "text/x-python",
   "name": "python",
   "nbconvert_exporter": "python",
   "pygments_lexer": "ipython3",
   "version": "3.7.7"
  }
 },
 "nbformat": 4,
 "nbformat_minor": 4
}
